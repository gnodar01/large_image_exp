{
 "cells": [
  {
   "cell_type": "code",
   "execution_count": 1,
   "id": "5356b28e-585a-4641-8910-59ca38a5c4d3",
   "metadata": {},
   "outputs": [],
   "source": [
    "from ndv import data, ArrayViewer\n",
    "from ndv.models import DataWrapper, ChannelMode\n",
    "import numpy as np\n",
    "from cmap import Colormap\n",
    "from typing import Any, TypeGuard, Hashable, Mapping, Sequence\n",
    "from .. import li\n",
    "."
   ]
  },
  {
   "cell_type": "code",
   "execution_count": 2,
   "id": "987463f6-bfc6-414a-84d7-5efb28fe74e4",
   "metadata": {},
   "outputs": [],
   "source": [
    "data_arr = data.cells3d()"
   ]
  },
  {
   "cell_type": "code",
   "execution_count": 3,
   "id": "9af90704-6ba7-4fdf-b76d-bab660a36dbf",
   "metadata": {},
   "outputs": [
    {
     "data": {
      "text/plain": [
       "((60, 2, 256, 256), dtype('uint16'), np.uint16(0), np.uint16(65532))"
      ]
     },
     "execution_count": 3,
     "metadata": {},
     "output_type": "execute_result"
    }
   ],
   "source": [
    "# zcyx\n",
    "data_arr.shape, data_arr.dtype, data_arr.min(), data_arr.max()"
   ]
  },
  {
   "cell_type": "code",
   "execution_count": 4,
   "id": "4f419add-d358-49fe-98c7-f0f35186faf1",
   "metadata": {
    "lines_to_next_cell": 1
   },
   "outputs": [],
   "source": [
    "# label to idx\n",
    "LI = {\n",
    " 'z': 0,\n",
    " 'c': 1,\n",
    " 'y': 2,\n",
    " 'x': 3,\n",
    "}\n",
    "# index to label\n",
    "IL = dict((v,k) for k,v in LI.items())\n",
    "\n",
    "Z = LI['z']\n",
    "C = LI['c']\n",
    "Y = LI['y']\n",
    "X = LI['x']"
   ]
  },
  {
   "cell_type": "code",
   "execution_count": 5,
   "id": "9a02844e",
   "metadata": {
    "lines_to_next_cell": 1
   },
   "outputs": [],
   "source": [
    "class CustomWrapper(DataWrapper):\n",
    "    PRIORITY = 10\n",
    "\n",
    "    __li = {\n",
    "     'z': 0,\n",
    "     'c': 1,\n",
    "     'y': 2,\n",
    "     'x': 3,\n",
    "    }\n",
    "\n",
    "    @classmethod\n",
    "    def supports(cls, obj: Any) -> TypeGuard[np.ndarray]:\n",
    "        return isinstance(obj, np.ndarray)\n",
    "\n",
    "    @property\n",
    "    def dims(self) -> tuple[Hashable, ...]:\n",
    "        return tuple(self.__li.keys())\n",
    "\n",
    "    @property\n",
    "    def coords(self) -> Mapping[Hashable, Sequence]:\n",
    "        return {label: range(self._data.shape[idx]) for label, idx in self.__li.items()}"
   ]
  },
  {
   "cell_type": "code",
   "execution_count": 6,
   "id": "eff0f3c4-c4c2-4658-81d3-d2a519ff89e2",
   "metadata": {},
   "outputs": [],
   "source": [
    "data_wrapper = CustomWrapper(data_arr)"
   ]
  },
  {
   "cell_type": "code",
   "execution_count": 7,
   "id": "e3743388",
   "metadata": {},
   "outputs": [
    {
     "data": {
      "application/vnd.jupyter.widget-view+json": {
       "model_id": "fba0e06c6eaa4e97a28bf44d43928693",
       "version_major": 2,
       "version_minor": 0
      },
      "text/plain": [
       "RFBOutputContext()"
      ]
     },
     "metadata": {},
     "output_type": "display_data"
    }
   ],
   "source": [
    "viewer = ArrayViewer(data_wrapper, visible_axes=('y', 'x'), channel_axis='c', channel_mode=ChannelMode.COMPOSITE, default_lut={'cmap': Colormap('viridis')})"
   ]
  },
  {
   "cell_type": "code",
   "execution_count": 8,
   "id": "04223433-f1f7-461f-8b8e-c1f681d5c8c5",
   "metadata": {},
   "outputs": [
    {
     "data": {
      "application/vnd.jupyter.widget-view+json": {
       "model_id": "abc04f15b71945a9a6f5d687d1a86763",
       "version_major": 2,
       "version_minor": 0
      },
      "text/plain": [
       "VBox(children=(HBox(children=(Label(value='.ndarray (z:60, c:2, y:256, x:256), uint16, 15MB'), Image(value=b'G…"
      ]
     },
     "metadata": {},
     "output_type": "display_data"
    }
   ],
   "source": [
    "viewer.show()"
   ]
  },
  {
   "cell_type": "code",
   "execution_count": 12,
   "id": "a72511df-7ff8-44e9-a489-3dceceb26d8c",
   "metadata": {},
   "outputs": [],
   "source": [
    "# 3d\n",
    "#viewer.display_model.visible_axes = (X,Y,X)\n",
    "# 2d\n",
    "#viewer.display_model.visible_axes = (Y,X)"
   ]
  },
  {
   "cell_type": "code",
   "execution_count": null,
   "id": "b6fcbce4-5f9c-44bf-977d-caa33f1d7996",
   "metadata": {},
   "outputs": [],
   "source": [
    "#viewer.display_model.channel_mode = \"grayscale\""
   ]
  },
  {
   "cell_type": "code",
   "execution_count": null,
   "id": "f6885a58-6930-4e67-858d-72700b248769",
   "metadata": {},
   "outputs": [],
   "source": [
    "#viewer.display_model.current_index.update({Y: 0})"
   ]
  }
 ],
 "metadata": {
  "kernelspec": {
   "display_name": "Python 3 (ipykernel)",
   "language": "python",
   "name": "python3"
  },
  "language_info": {
   "codemirror_mode": {
    "name": "ipython",
    "version": 3
   },
   "file_extension": ".py",
   "mimetype": "text/x-python",
   "name": "python",
   "nbconvert_exporter": "python",
   "pygments_lexer": "ipython3",
   "version": "3.10.16"
  }
 },
 "nbformat": 4,
 "nbformat_minor": 5
}
