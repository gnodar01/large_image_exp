{
 "cells": [
  {
   "cell_type": "code",
   "execution_count": 23,
   "id": "5356b28e-585a-4641-8910-59ca38a5c4d3",
   "metadata": {},
   "outputs": [],
   "source": [
    "import sys\n",
    "import os\n",
    "from ndv import ArrayViewer\n",
    "from ndv.models import DataWrapper, ChannelMode\n",
    "import numpy as np\n",
    "from cmap import Colormap\n",
    "from typing import Any, TypeGuard, Hashable, Mapping, Sequence\n",
    "import dask.array.core as da\n",
    "\n",
    "sys.path.insert(0, os.path.abspath('..'))\n",
    "import li"
   ]
  },
  {
   "cell_type": "code",
   "execution_count": 6,
   "id": "c68b3d41",
   "metadata": {},
   "outputs": [
    {
     "name": "stdout",
     "output_type": "stream",
     "text": [
      "aready loaded data\n"
     ]
    },
    {
     "data": {
      "text/plain": [
       "<module 'li' from '/Users/ngogober/Developer/large_image/dask/li.py'>"
      ]
     },
     "execution_count": 6,
     "metadata": {},
     "output_type": "execute_result"
    }
   ],
   "source": [
    "#import importlib\n",
    "#importlib.reload(li)"
   ]
  },
  {
   "cell_type": "code",
   "execution_count": 10,
   "id": "fedc8cc1",
   "metadata": {},
   "outputs": [
    {
     "data": {
      "text/plain": [
       "[dask.array<from-zarr, shape=(19, 26523, 55294), dtype=uint16, chunksize=(1, 1024, 1024), chunktype=numpy.ndarray>,\n",
       " dask.array<from-zarr, shape=(19, 13261, 27647), dtype=uint16, chunksize=(1, 1024, 1024), chunktype=numpy.ndarray>,\n",
       " dask.array<from-zarr, shape=(19, 6630, 13823), dtype=uint16, chunksize=(1, 1024, 1024), chunktype=numpy.ndarray>,\n",
       " dask.array<from-zarr, shape=(19, 3315, 6911), dtype=uint16, chunksize=(1, 1024, 1024), chunktype=numpy.ndarray>,\n",
       " dask.array<from-zarr, shape=(19, 1657, 3455), dtype=uint16, chunksize=(1, 1024, 1024), chunktype=numpy.ndarray>,\n",
       " dask.array<from-zarr, shape=(19, 828, 1727), dtype=uint16, chunksize=(1, 828, 1024), chunktype=numpy.ndarray>,\n",
       " dask.array<from-zarr, shape=(19, 414, 863), dtype=uint16, chunksize=(1, 414, 863), chunktype=numpy.ndarray>]"
      ]
     },
     "execution_count": 10,
     "metadata": {},
     "output_type": "execute_result"
    }
   ],
   "source": [
    "li.data"
   ]
  },
  {
   "cell_type": "code",
   "execution_count": 29,
   "id": "987463f6-bfc6-414a-84d7-5efb28fe74e4",
   "metadata": {},
   "outputs": [
    {
     "data": {
      "text/plain": [
       "((19, 414, 863),\n",
       " dtype('uint16'),\n",
       " dask.array<min-aggregate, shape=(), dtype=uint16, chunksize=(), chunktype=numpy.ndarray>,\n",
       " dask.array<max-aggregate, shape=(), dtype=uint16, chunksize=(), chunktype=numpy.ndarray>)"
      ]
     },
     "execution_count": 29,
     "metadata": {},
     "output_type": "execute_result"
    }
   ],
   "source": [
    "data_arr = li.data[-1]\n",
    "\n",
    "# zcyx\n",
    "data_arr.shape, data_arr.dtype, data_arr.min(), data_arr.max()"
   ]
  },
  {
   "cell_type": "code",
   "execution_count": 13,
   "id": "4f419add-d358-49fe-98c7-f0f35186faf1",
   "metadata": {
    "lines_to_next_cell": 1
   },
   "outputs": [],
   "source": [
    "# label to idx\n",
    "LI = {\n",
    " 'c': 0,\n",
    " 'y': 1,\n",
    " 'x': 2,\n",
    "}\n",
    "# index to label\n",
    "IL = dict((v,k) for k,v in LI.items())\n",
    "\n",
    "C = LI['c']\n",
    "Y = LI['y']\n",
    "X = LI['x']"
   ]
  },
  {
   "cell_type": "code",
   "execution_count": 17,
   "id": "9a02844e",
   "metadata": {},
   "outputs": [],
   "source": [
    "class CustomWrapper(DataWrapper):\n",
    "    PRIORITY = 10\n",
    "\n",
    "    __li = {\n",
    "     'c': 0,\n",
    "     'y': 1,\n",
    "     'x': 2,\n",
    "    }\n",
    "\n",
    "    @classmethod\n",
    "    def supports(cls, obj: Any) -> TypeGuard[np.ndarray]:\n",
    "        return isinstance(obj, np.ndarray)\n",
    "\n",
    "    @property\n",
    "    def dims(self) -> tuple[Hashable, ...]:\n",
    "        return tuple(self.__li.keys())\n",
    "\n",
    "    @property\n",
    "    def coords(self) -> Mapping[Hashable, Sequence]:\n",
    "        return {label: range(self._data.shape[idx]) for label, idx in self.__li.items()}\n",
    "\n",
    "class CustomDaskWrapper(DataWrapper):\n",
    "    PRIORITY = 10\n",
    "\n",
    "    __li = {\n",
    "     'c': 0,\n",
    "     'y': 1,\n",
    "     'x': 2,\n",
    "    }\n",
    "\n",
    "    @classmethod\n",
    "    def supports(cls, obj: Any) -> TypeGuard[da.Array]:\n",
    "        if (da := sys.modules.get(\"dask.array\")) and isinstance(obj, da.Array):\n",
    "            return True\n",
    "        return False\n",
    "\n",
    "    def _asarray(self, data: da.Array) -> np.ndarray:\n",
    "        return np.asarray(data.compute())\n",
    "\n",
    "    def save_as_zarr(self, path: str) -> None:\n",
    "        self._data.to_zarr(url=path)\n",
    "\n",
    "    @property\n",
    "    def dims(self) -> tuple[Hashable, ...]:\n",
    "        return tuple(self.__li.keys())\n",
    "\n",
    "    @property\n",
    "    def coords(self) -> Mapping[Hashable, Sequence]:\n",
    "        return {label: range(self._data.shape[idx]) for label, idx in self.__li.items()}"
   ]
  },
  {
   "cell_type": "code",
   "execution_count": 18,
   "id": "eff0f3c4-c4c2-4658-81d3-d2a519ff89e2",
   "metadata": {},
   "outputs": [],
   "source": [
    "data_wrapper = CustomDaskWrapper(data_arr)"
   ]
  },
  {
   "cell_type": "code",
   "execution_count": 24,
   "id": "e3743388",
   "metadata": {},
   "outputs": [
    {
     "data": {
      "application/vnd.jupyter.widget-view+json": {
       "model_id": "6bda5fca171a48f18837466d82ba7c2e",
       "version_major": 2,
       "version_minor": 0
      },
      "text/plain": [
       "RFBOutputContext()"
      ]
     },
     "metadata": {},
     "output_type": "display_data"
    }
   ],
   "source": [
    "viewer = ArrayViewer(data_wrapper, visible_axes=('y', 'x'), channel_axis='c', channel_mode=ChannelMode.COMPOSITE, default_lut={'cmap': Colormap('viridis')})"
   ]
  },
  {
   "cell_type": "code",
   "execution_count": 25,
   "id": "04223433-f1f7-461f-8b8e-c1f681d5c8c5",
   "metadata": {},
   "outputs": [
    {
     "data": {
      "application/vnd.jupyter.widget-view+json": {
       "model_id": "92bb6eca21ae4a85858c26a8393eda58",
       "version_major": 2,
       "version_minor": 0
      },
      "text/plain": [
       "VBox(children=(HBox(children=(Label(value='dask.Array (c:19, y:414, x:863), uint16, 12.95MB'), Image(value=b'G…"
      ]
     },
     "metadata": {},
     "output_type": "display_data"
    }
   ],
   "source": [
    "viewer.show()"
   ]
  },
  {
   "cell_type": "code",
   "execution_count": 40,
   "id": "56429fd0-3ec1-4704-8160-72df1561d968",
   "metadata": {},
   "outputs": [],
   "source": [
    "r = 4\n",
    "c = 4\n",
    "chunk_size = 4096\n",
    "viewer.data = li.data[0][:,chunk_size*r:chunk_size*(r+1),chunk_size*c:chunk_size*(c+1)]"
   ]
  },
  {
   "cell_type": "code",
   "execution_count": null,
   "id": "a72511df-7ff8-44e9-a489-3dceceb26d8c",
   "metadata": {},
   "outputs": [],
   "source": [
    "# 3d\n",
    "#viewer.display_model.visible_axes = (X,Y,X)\n",
    "# 2d\n",
    "#viewer.display_model.visible_axes = (Y,X)"
   ]
  },
  {
   "cell_type": "code",
   "execution_count": null,
   "id": "b6fcbce4-5f9c-44bf-977d-caa33f1d7996",
   "metadata": {},
   "outputs": [],
   "source": [
    "#viewer.display_model.channel_mode = \"grayscale\""
   ]
  },
  {
   "cell_type": "code",
   "execution_count": null,
   "id": "f6885a58-6930-4e67-858d-72700b248769",
   "metadata": {},
   "outputs": [],
   "source": [
    "#viewer.display_model.current_index.update({Y: 0})"
   ]
  }
 ],
 "metadata": {
  "kernelspec": {
   "display_name": "Python 3 (ipykernel)",
   "language": "python",
   "name": "python3"
  },
  "language_info": {
   "codemirror_mode": {
    "name": "ipython",
    "version": 3
   },
   "file_extension": ".py",
   "mimetype": "text/x-python",
   "name": "python",
   "nbconvert_exporter": "python",
   "pygments_lexer": "ipython3",
   "version": "3.10.16"
  }
 },
 "nbformat": 4,
 "nbformat_minor": 5
}
