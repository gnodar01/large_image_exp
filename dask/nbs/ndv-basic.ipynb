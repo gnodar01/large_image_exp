{
 "cells": [
  {
   "cell_type": "code",
   "execution_count": 1,
   "id": "5356b28e-585a-4641-8910-59ca38a5c4d3",
   "metadata": {},
   "outputs": [
    {
     "name": "stdout",
     "output_type": "stream",
     "text": [
      "loading data\n",
      "done loading data\n"
     ]
    }
   ],
   "source": [
    "import sys\n",
    "import os\n",
    "from ndv import ArrayViewer\n",
    "from ndv.models import DataWrapper, ChannelMode\n",
    "import numpy as np\n",
    "from cmap import Colormap\n",
    "from typing import Any, TypeGuard, Hashable, Mapping, Sequence\n",
    "import dask.array.core as da\n",
    "import ipywidgets as widgets\n",
    "\n",
    "sys.path.insert(0, os.path.abspath('..'))\n",
    "import li"
   ]
  },
  {
   "cell_type": "code",
   "execution_count": 2,
   "id": "c68b3d41",
   "metadata": {},
   "outputs": [],
   "source": [
    "#import importlib\n",
    "#importlib.reload(li)"
   ]
  },
  {
   "cell_type": "code",
   "execution_count": 3,
   "id": "fdbc001c-4bc6-4e4f-b5ac-a58a885dbd0c",
   "metadata": {},
   "outputs": [],
   "source": [
    "dirr = lambda x: [a for a in dir(x) if not a.startswith('_')]"
   ]
  },
  {
   "cell_type": "code",
   "execution_count": 4,
   "id": "fedc8cc1",
   "metadata": {},
   "outputs": [
    {
     "data": {
      "text/plain": [
       "[dask.array<from-zarr, shape=(19, 26523, 55294), dtype=uint16, chunksize=(1, 1024, 1024), chunktype=numpy.ndarray>,\n",
       " dask.array<from-zarr, shape=(19, 13261, 27647), dtype=uint16, chunksize=(1, 1024, 1024), chunktype=numpy.ndarray>,\n",
       " dask.array<from-zarr, shape=(19, 6630, 13823), dtype=uint16, chunksize=(1, 1024, 1024), chunktype=numpy.ndarray>,\n",
       " dask.array<from-zarr, shape=(19, 3315, 6911), dtype=uint16, chunksize=(1, 1024, 1024), chunktype=numpy.ndarray>,\n",
       " dask.array<from-zarr, shape=(19, 1657, 3455), dtype=uint16, chunksize=(1, 1024, 1024), chunktype=numpy.ndarray>,\n",
       " dask.array<from-zarr, shape=(19, 828, 1727), dtype=uint16, chunksize=(1, 828, 1024), chunktype=numpy.ndarray>,\n",
       " dask.array<from-zarr, shape=(19, 414, 863), dtype=uint16, chunksize=(1, 414, 863), chunktype=numpy.ndarray>]"
      ]
     },
     "execution_count": 4,
     "metadata": {},
     "output_type": "execute_result"
    }
   ],
   "source": [
    "li.data"
   ]
  },
  {
   "cell_type": "code",
   "execution_count": 5,
   "id": "987463f6-bfc6-414a-84d7-5efb28fe74e4",
   "metadata": {},
   "outputs": [
    {
     "data": {
      "text/plain": [
       "((19, 414, 863),\n",
       " dtype('uint16'),\n",
       " dask.array<min-aggregate, shape=(), dtype=uint16, chunksize=(), chunktype=numpy.ndarray>,\n",
       " dask.array<max-aggregate, shape=(), dtype=uint16, chunksize=(), chunktype=numpy.ndarray>)"
      ]
     },
     "execution_count": 5,
     "metadata": {},
     "output_type": "execute_result"
    }
   ],
   "source": [
    "data_arr = li.data[-1]\n",
    "\n",
    "# zcyx\n",
    "data_arr.shape, data_arr.dtype, data_arr.min(), data_arr.max()"
   ]
  },
  {
   "cell_type": "code",
   "execution_count": 6,
   "id": "4f419add-d358-49fe-98c7-f0f35186faf1",
   "metadata": {
    "lines_to_next_cell": 1
   },
   "outputs": [],
   "source": [
    "# label to idx\n",
    "LI = {\n",
    " 'c': 0,\n",
    " 'y': 1,\n",
    " 'x': 2,\n",
    "}\n",
    "# index to label\n",
    "IL = dict((v,k) for k,v in LI.items())\n",
    "\n",
    "C = LI['c']\n",
    "Y = LI['y']\n",
    "X = LI['x']"
   ]
  },
  {
   "cell_type": "code",
   "execution_count": 7,
   "id": "9a02844e",
   "metadata": {
    "lines_to_next_cell": 1
   },
   "outputs": [],
   "source": [
    "class CustomWrapper(DataWrapper):\n",
    "    PRIORITY = 10\n",
    "\n",
    "    __li = {\n",
    "     'c': 0,\n",
    "     'y': 1,\n",
    "     'x': 2,\n",
    "    }\n",
    "\n",
    "    @classmethod\n",
    "    def supports(cls, obj: Any) -> TypeGuard[np.ndarray]:\n",
    "        return isinstance(obj, np.ndarray)\n",
    "\n",
    "    @property\n",
    "    def dims(self) -> tuple[Hashable, ...]:\n",
    "        return tuple(self.__li.keys())\n",
    "\n",
    "    @property\n",
    "    def coords(self) -> Mapping[Hashable, Sequence]:\n",
    "        return {label: range(self._data.shape[idx]) for label, idx in self.__li.items()}\n",
    "\n",
    "class CustomDaskWrapper(DataWrapper):\n",
    "    PRIORITY = 10\n",
    "\n",
    "    __li = {\n",
    "     'c': 0,\n",
    "     'y': 1,\n",
    "     'x': 2,\n",
    "    }\n",
    "\n",
    "    @classmethod\n",
    "    def supports(cls, obj: Any) -> TypeGuard[da.Array]:\n",
    "        if (da := sys.modules.get(\"dask.array\")) and isinstance(obj, da.Array):\n",
    "            return True\n",
    "        return False\n",
    "\n",
    "    def _asarray(self, data: da.Array) -> np.ndarray:\n",
    "        return np.asarray(data.compute())\n",
    "\n",
    "    def save_as_zarr(self, path: str) -> None:\n",
    "        self._data.to_zarr(url=path)\n",
    "\n",
    "    @property\n",
    "    def dims(self) -> tuple[Hashable, ...]:\n",
    "        return tuple(self.__li.keys())\n",
    "\n",
    "    @property\n",
    "    def coords(self) -> Mapping[Hashable, Sequence]:\n",
    "        return {label: range(self._data.shape[idx]) for label, idx in self.__li.items()}"
   ]
  },
  {
   "cell_type": "code",
   "execution_count": 8,
   "id": "eff0f3c4-c4c2-4658-81d3-d2a519ff89e2",
   "metadata": {},
   "outputs": [],
   "source": [
    "standard_luts = [\n",
    "    {'visible': True, 'cmap': Colormap('red')},\n",
    "    {'visible': True, 'cmap': Colormap('green')},\n",
    "    {'visible': True, 'cmap': Colormap('blue')},\n",
    "]\n",
    "\n",
    "num_visible_axes = min(data_arr.shape[C], len(standard_luts))\n",
    "visible_axes = list(range(num_visible_axes))\n",
    "luts = {ax: standard_luts[ax] for ax in visible_axes}\n",
    "for ax in range(num_visible_axes, data_arr.shape[C]):\n",
    "    luts[ax] = {'visible': False}"
   ]
  },
  {
   "cell_type": "code",
   "execution_count": 9,
   "id": "e3743388",
   "metadata": {
    "scrolled": true
   },
   "outputs": [
    {
     "data": {
      "application/vnd.jupyter.widget-view+json": {
       "model_id": "110e24c7e14a488da4e7df1b6ba32992",
       "version_major": 2,
       "version_minor": 0
      },
      "text/plain": [
       "RFBOutputContext()"
      ]
     },
     "metadata": {},
     "output_type": "display_data"
    }
   ],
   "source": [
    "viewer = ArrayViewer(\n",
    "    CustomDaskWrapper(li.data[-1]),\n",
    "    visible_axes=('y', 'x'),\n",
    "    channel_axis='c',\n",
    "    channel_mode=ChannelMode.COMPOSITE,\n",
    "    default_lut={'visible': False, 'cmap': Colormap('viridis')},\n",
    "    luts=luts\n",
    ")"
   ]
  },
  {
   "cell_type": "code",
   "execution_count": 10,
   "id": "dd262d11-f08b-4c51-9343-4bf6836d6358",
   "metadata": {},
   "outputs": [],
   "source": [
    "widget_output = widgets.Output()\n",
    "\n",
    "def set_data(nth, lvl):\n",
    "    tile = li.tile_n(nth=nth, frame=slice(0,data_arr.shape[C],1), level=lvl, do_transpose=False)\n",
    "    viewer.data = tile\n",
    "\n",
    "def level_change(change):\n",
    "    with widget_output:\n",
    "        nth = tile_slider.value\n",
    "        lvl = change['new']\n",
    "        lvl = max(0, lvl)\n",
    "        lvl = min(lvl, len(li.data)-1)\n",
    "        tile_slider.max = li.nn(lvl)-1\n",
    "        set_data(nth, lvl)\n",
    "\n",
    "def tile_change(change):\n",
    "    with widget_output:\n",
    "        lvl = level_slider.value\n",
    "        max_nth = li.nn(lvl)\n",
    "        nth = change['new']\n",
    "        nth = max(0, nth)\n",
    "        nth = min(nth, max_nth)\n",
    "        set_data(nth, lvl)\n",
    "        \n",
    "\n",
    "level_slider = widgets.IntSlider(min=0, max=len(li.data)-1, value=len(li.data)-1, description=\"res\")\n",
    "level_slider.observe(level_change, names=\"value\")\n",
    "\n",
    "tile_slider = widgets.IntSlider(min=0, max=0, value=0, description=\"tile\")\n",
    "tile_slider.observe(tile_change, names=\"value\")"
   ]
  },
  {
   "cell_type": "code",
   "execution_count": 11,
   "id": "a2ba87be",
   "metadata": {},
   "outputs": [],
   "source": [
    "def go_level_up(b):\n",
    "    with widget_output:\n",
    "        level_slider.value -= 1\n",
    "def go_level_down(b):\n",
    "    with widget_output:\n",
    "        print(\"level down from\", level_slider.value, b)\n",
    "        level_slider.value += 1\n",
    "\n",
    "def go_tile_up(b):\n",
    "    with widget_output:\n",
    "        old_nth = tile_slider.value\n",
    "        level = level_slider.value\n",
    "        new_nth = old_nth - li.nx(level)\n",
    "        if new_nth >= 0:\n",
    "            tile_slider.value = new_nth\n",
    "def go_tile_down(b):\n",
    "    with widget_output:\n",
    "        old_nth = tile_slider.value\n",
    "        level = level_slider.value\n",
    "        new_nth = old_nth + li.nx(level)\n",
    "        if new_nth < li.nn(level):\n",
    "            tile_slider.value = new_nth\n",
    "def go_tile_left(b):\n",
    "    with widget_output:\n",
    "        old_nth = tile_slider.value\n",
    "        level = level_slider.value\n",
    "        old_x = old_nth % li.nx(level)\n",
    "        if old_x > 0:\n",
    "            tile_slider.value -= 1\n",
    "def go_tile_right(b):\n",
    "    with widget_output:\n",
    "        old_nth = tile_slider.value\n",
    "        level = level_slider.value\n",
    "        old_x = old_nth % li.nx(level)\n",
    "        if old_x < (li.nx(level) -1):\n",
    "            tile_slider.value += 1\n",
    "\n",
    "btn = lambda icon: widgets.Button(\n",
    "    description='',\n",
    "    disabled=False,\n",
    "    button_style='',\n",
    "    tooltip='go level up',\n",
    "    icon=icon\n",
    ")\n",
    "\n",
    "level_up_btn = btn('arrow-up')\n",
    "level_up_btn.on_click(go_level_up)\n",
    "level_down_btn = btn('arrow-down')\n",
    "level_down_btn.on_click(go_level_down)\n",
    "\n",
    "\n",
    "tile_up_btn = btn('arrow-up')\n",
    "tile_up_btn.on_click(go_tile_up)\n",
    "tile_down_btn = btn('arrow-down')\n",
    "tile_down_btn.on_click(go_tile_down)\n",
    "tile_left_btn = btn('arrow-left')\n",
    "tile_left_btn.on_click(go_tile_left)\n",
    "tile_right_btn = btn('arrow-right')\n",
    "tile_right_btn.on_click(go_tile_right)"
   ]
  },
  {
   "cell_type": "code",
   "execution_count": 12,
   "id": "3ee18ceb",
   "metadata": {},
   "outputs": [
    {
     "data": {
      "application/vnd.jupyter.widget-view+json": {
       "model_id": "932d1103b39d4649bbd6dce60e26a1d0",
       "version_major": 2,
       "version_minor": 0
      },
      "text/plain": [
       "IntSlider(value=6, description='res', max=6)"
      ]
     },
     "metadata": {},
     "output_type": "display_data"
    },
    {
     "data": {
      "application/vnd.jupyter.widget-view+json": {
       "model_id": "dbcc53f88639448b855c7b25a2ef99f1",
       "version_major": 2,
       "version_minor": 0
      },
      "text/plain": [
       "Button(icon='arrow-up', style=ButtonStyle(), tooltip='go level up')"
      ]
     },
     "metadata": {},
     "output_type": "display_data"
    },
    {
     "data": {
      "application/vnd.jupyter.widget-view+json": {
       "model_id": "801e6fa85d53431d8b05aa0bebe8b553",
       "version_major": 2,
       "version_minor": 0
      },
      "text/plain": [
       "Button(icon='arrow-down', style=ButtonStyle(), tooltip='go level up')"
      ]
     },
     "metadata": {},
     "output_type": "display_data"
    },
    {
     "data": {
      "application/vnd.jupyter.widget-view+json": {
       "model_id": "237503170f3e4003ab757b38b1e01fc7",
       "version_major": 2,
       "version_minor": 0
      },
      "text/plain": [
       "IntSlider(value=0, description='tile', max=0)"
      ]
     },
     "metadata": {},
     "output_type": "display_data"
    },
    {
     "data": {
      "application/vnd.jupyter.widget-view+json": {
       "model_id": "c6a01359345b4384beff7c81f92eb933",
       "version_major": 2,
       "version_minor": 0
      },
      "text/plain": [
       "Button(icon='arrow-up', style=ButtonStyle(), tooltip='go level up')"
      ]
     },
     "metadata": {},
     "output_type": "display_data"
    },
    {
     "data": {
      "application/vnd.jupyter.widget-view+json": {
       "model_id": "9e031ee6c8ff4b4b8f24502fb913bfa6",
       "version_major": 2,
       "version_minor": 0
      },
      "text/plain": [
       "Button(icon='arrow-down', style=ButtonStyle(), tooltip='go level up')"
      ]
     },
     "metadata": {},
     "output_type": "display_data"
    },
    {
     "data": {
      "application/vnd.jupyter.widget-view+json": {
       "model_id": "416becd05f494cc3bea8675bbae0650c",
       "version_major": 2,
       "version_minor": 0
      },
      "text/plain": [
       "Button(icon='arrow-left', style=ButtonStyle(), tooltip='go level up')"
      ]
     },
     "metadata": {},
     "output_type": "display_data"
    },
    {
     "data": {
      "application/vnd.jupyter.widget-view+json": {
       "model_id": "b13f77de09904c5a96434b7d5d26c730",
       "version_major": 2,
       "version_minor": 0
      },
      "text/plain": [
       "Button(icon='arrow-right', style=ButtonStyle(), tooltip='go level up')"
      ]
     },
     "metadata": {},
     "output_type": "display_data"
    },
    {
     "data": {
      "application/vnd.jupyter.widget-view+json": {
       "model_id": "14adfb84f87d47e5932b046cc2986956",
       "version_major": 2,
       "version_minor": 0
      },
      "text/plain": [
       "VBox(children=(HBox(children=(Label(value='dask.Array (c:19, y:414, x:863), uint16, 12.95MB'), Image(value=b'G…"
      ]
     },
     "metadata": {},
     "output_type": "display_data"
    }
   ],
   "source": [
    "display(level_slider)\n",
    "\n",
    "display(level_up_btn, level_down_btn)\n",
    "\n",
    "display(tile_slider)\n",
    "\n",
    "display(tile_up_btn, tile_down_btn, tile_left_btn, tile_right_btn)\n",
    "\n",
    "viewer.show()"
   ]
  },
  {
   "cell_type": "code",
   "execution_count": 13,
   "id": "e18c0bc1-8ae9-485e-9ddb-f82f0c6285ee",
   "metadata": {
    "editable": true,
    "slideshow": {
     "slide_type": ""
    },
    "tags": []
   },
   "outputs": [],
   "source": [
    "# viewer._view.layout.children[-1].children = tuple(viewer._view.layout.children[-1].children[:-2])"
   ]
  },
  {
   "cell_type": "code",
   "execution_count": null,
   "id": "f8e76854",
   "metadata": {},
   "outputs": [],
   "source": [
    "for i in range(3, data_arr.shape[C]):\n",
    "    viewer.display_model.luts[i].visible = True"
   ]
  },
  {
   "cell_type": "code",
   "execution_count": null,
   "id": "56429fd0-3ec1-4704-8160-72df1561d968",
   "metadata": {},
   "outputs": [],
   "source": [
    "r = 4\n",
    "c = 4\n",
    "chunk_size = 4096\n",
    "viewer.data = li.data[0][:,chunk_size*r:chunk_size*(r+1),chunk_size*c:chunk_size*(c+1)]"
   ]
  },
  {
   "cell_type": "code",
   "execution_count": null,
   "id": "d9a8de9e-aa67-4bbc-ad2d-be77df203f7f",
   "metadata": {},
   "outputs": [],
   "source": [
    "canvas = viewer._canvas\n",
    "do_zoom = lambda z: canvas.set_range(margin=-(2**z-1))"
   ]
  },
  {
   "cell_type": "code",
   "execution_count": null,
   "id": "d6449c72-4423-4009-8eda-4668ec25bf7f",
   "metadata": {},
   "outputs": [],
   "source": [
    "do_zoom(0)"
   ]
  },
  {
   "cell_type": "code",
   "execution_count": null,
   "id": "a72511df-7ff8-44e9-a489-3dceceb26d8c",
   "metadata": {},
   "outputs": [],
   "source": [
    "# 3d\n",
    "#viewer.display_model.visible_axes = (X,Y,X)\n",
    "# 2d\n",
    "#viewer.display_model.visible_axes = (Y,X)"
   ]
  },
  {
   "cell_type": "code",
   "execution_count": null,
   "id": "b6fcbce4-5f9c-44bf-977d-caa33f1d7996",
   "metadata": {},
   "outputs": [],
   "source": [
    "#viewer.display_model.channel_mode = \"grayscale\""
   ]
  },
  {
   "cell_type": "code",
   "execution_count": null,
   "id": "f6885a58-6930-4e67-858d-72700b248769",
   "metadata": {},
   "outputs": [],
   "source": [
    "#viewer.display_model.current_index.update({Y: 0})"
   ]
  },
  {
   "cell_type": "code",
   "execution_count": null,
   "id": "cd745433-a529-4f3c-a0b4-92aef6e75fdb",
   "metadata": {},
   "outputs": [],
   "source": []
  }
 ],
 "metadata": {
  "kernelspec": {
   "display_name": "Python 3 (ipykernel)",
   "language": "python",
   "name": "python3"
  },
  "language_info": {
   "codemirror_mode": {
    "name": "ipython",
    "version": 3
   },
   "file_extension": ".py",
   "mimetype": "text/x-python",
   "name": "python",
   "nbconvert_exporter": "python",
   "pygments_lexer": "ipython3",
   "version": "3.10.16"
  }
 },
 "nbformat": 4,
 "nbformat_minor": 5
}
